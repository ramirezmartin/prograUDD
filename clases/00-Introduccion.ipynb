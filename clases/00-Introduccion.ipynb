{
 "cells": [
  {
   "cell_type": "markdown",
   "metadata": {},
   "source": [
    "# R or B?"
   ]
  },
  {
   "cell_type": "markdown",
   "metadata": {},
   "source": [
    "**Metadata**: Estos notebooks están (más que) inspirados en el excelente trabajo de [Jake van der Plass](https://github.com/jakevdp/) y su [Whirlwind Tour Of Python](https://github.com/jakevdp/WhirlwindTourOfPython). Ver A Whirlwind Tour of Python by Jake VanderPlas (O’Reilly). Copyright 2016 O’Reilly Media, Inc., 978-1-491-96465-1.\". Estos notebooks están protegidos con la misma licencia de los originales, [Creative Commons 0](). Todas las notas están disponibles en [PrograUDD1](https://github.com/leoferres/prograUDD)."
   ]
  },
  {
   "cell_type": "markdown",
   "metadata": {},
   "source": [
    "# Objetivos de hoy\n",
    "\n",
    "   1. Hablar de admin (bleargh!)\n",
    "   1. Correr el primer código en Python... \"hello, world!\" FTW (Historia de HW?)"
   ]
  },
  {
   "cell_type": "markdown",
   "metadata": {},
   "source": [
    "# Admin\n",
    "\n",
    "## Staff\n",
    "\n",
    "  - Dr. Leo Ferres (`@leoferres`, `lferres@udd.cl`, pueden llamarme \"Leo\" nomás)\n",
    "  - Rodrigo Trigo ()\n",
    "  \n",
    "## Horarios de clase y salas\n",
    "\n",
    "  - Sección 1 y 2: 308, de 14:30 a 15:50\n",
    "  - Sección 3 y 4: 110, de 17:25 a 18:45\n",
    "\n",
    "## Herramientas de comunicación (hablemos!)\n",
    "\n",
    "   - Piazza (no manden emails a mi cuenta... es más fácil crowdsource it, btw cualquiera puede contestar)\n",
    "      - [Piazza](http://piazza.com/udd.cl/spring2017/iii222a/home)(clase)\n",
    "      - [piazza.com/udd.cl/spring2017/iii222a](http://piazza.com/udd.cl/spring2017/iii222a) (signup)\n",
    "   - Github (no es necesario saber mucho, pero correcciones son bienvenidas; ie. `pull requests`)\n",
    "      - [https://github.com/leoferres/prograUDD](https://github.com/leoferres/prograUDD)\n",
    "   - Gitter (voy a chequear gitter durante la clase, por si alguno es shy...)\n",
    "      - [https://gitter.im/prograUDD/Lobby](https://gitter.im/prograUDD/Lobby)\n",
    "\n",
    "## Objetivo\n",
    "\n",
    "Este es el curso obligatorio de Tecnologías de Información II, perteneciente al ciclo de Bachillerato y correspondiente al segundo curso de la línea de Tecnologías de la Información. El curso está diseñado para ayudar al estudiante a adquirir habilidades que le permitan aplicar el enfoque computacional **a la resolución de problemas**.\n",
    "\n",
    "El curso está dirigido a estudiantes con poca o nada experiencia en\n",
    "programación y con el interés de entender y usar computadores como herramientas para el procesamiento de información en sus propias disciplinas.\n",
    "\n",
    "## Evaluaciones\n",
    "\n",
    "Bueh, supongo que este es el punto más algido de la discusión. No hay mucho que analizar aqui. Es bastante standard a niveles universitarios. \n",
    "\n",
    "   - 20% Certamen 1\n",
    "   - 20% Certamen 2\n",
    "   - 20% Proyecto\n",
    "   - 30% Examen\n",
    "   - 10% Presentación carpeta de problemas resueltos y controles\n",
    "   \n",
    "## Recursos\n",
    "\n",
    " - Guttag, john. Introduction to computation and programming using Python. Revised and expanded edition. MIT press, 2013. Isbn: (Ebook o versión impresa), ver videos en https://www.youtube.com/watch?v=4UDyp67d6_w\n",
    "\n",
    " - Downey, A. How to think like a computer scientist, https://goo.gl/4nVEWr\n",
    " \n",
    " - https://www.ossblog.org/study-python-with-open-source-books/ (NEW!!!)"
   ]
  },
  {
   "cell_type": "markdown",
   "metadata": {},
   "source": [
    "# Introducción\n",
    "\n",
    "Dejenme hacerles algunas preguntas antes de empezar con nuestros temas específicos:\n",
    "\n",
    "   1. Alguien de aqui sabe programar?\n",
    "   1. Quienes odian la programación (pero han intentado programar!)?\n",
    "   1. Quien le tiene miedo a los computadores?\n",
    "\n",
    "En este curso yo quiero hacerlos pasar de esto:\n",
    "\n",
    "![title](https://pbs.twimg.com/profile_images/1202780279/download.jpg)\n",
    "\n",
    "o esto:\n",
    "\n",
    "![title](http://thisdeveloperslife.com/Images//dilbert-boss.jpeg)"
   ]
  },
  {
   "cell_type": "markdown",
   "metadata": {},
   "source": [
    "a esto\n",
    "\n",
    "![title](https://pmctvline2.files.wordpress.com/2016/06/mr-robot-season-2-after-show.jpg?w=620)"
   ]
  },
  {
   "cell_type": "markdown",
   "metadata": {},
   "source": [
    "y esto\n",
    "\n",
    "![title](http://mediad.publicbroadcasting.net/p/shared/npr/styles/x_large/nprshared/201505/410331373.jpg)"
   ]
  },
  {
   "cell_type": "markdown",
   "metadata": {
    "collapsed": true
   },
   "source": [
    "(aunque probablemente los deje asi:\n",
    "\n",
    "![title](https://platypusdirective.files.wordpress.com/2014/09/hackers-cast-thumb-560x2861.jpg)\n",
    "\n",
    ")"
   ]
  },
  {
   "cell_type": "markdown",
   "metadata": {},
   "source": [
    "## Por qué Python?\n",
    "\n",
    "Hasta el año pasado, enseñábamos C(++?) como lenguaje de programación. Si bien estos lenguajes son algunos de los mas usados (C puro en particular), en este curso estamos más interesados en resolución de problemas que en las particularidades de un lenguaje. Si vamos a imprimir algo, preferimos que sea simple"
   ]
  },
  {
   "cell_type": "code",
   "execution_count": 15,
   "metadata": {
    "collapsed": false
   },
   "outputs": [
    {
     "name": "stdout",
     "output_type": "stream",
     "text": [
      "hola\n"
     ]
    }
   ],
   "source": [
    "print(\"hola\")"
   ]
  },
  {
   "cell_type": "markdown",
   "metadata": {},
   "source": [
    "y no complejo:"
   ]
  },
  {
   "cell_type": "markdown",
   "metadata": {},
   "source": [
    "```C\n",
    "#include<stdio.h>\n",
    "int main(int argn, char** argv) {\n",
    "   printf(\"hola\");\n",
    "   return 0;\n",
    "}\n",
    "```"
   ]
  },
  {
   "cell_type": "markdown",
   "metadata": {},
   "source": [
    "Python se inventó a finales de los 80s como un lenguaje de instrucción y scripting (explicar, \"glue language\"). Pero desde entonces se ha vuelto el lenguaje *de facto* de la ciencia, y hasta aplicaciones a gran escala (YouTube corre Python en buena parte de sus servicios). De hecho, Python está en el top 5 de los lenguajes de programación! Ver [el Tiobe Index](http://www.tiobe.com/tiobe-index/), MATLAB, como ejemplo, está #17."
   ]
  },
  {
   "cell_type": "markdown",
   "metadata": {},
   "source": [
    "## Nuestras herramientas\n",
    "\n",
    "### Anaconda y Python 3\n",
    "\n",
    "Para este curso vamos a usar Python 3 (asegurarse que es versión 3!), y la instalación de [Anaconda](https://www.continuum.io/downloads). Viene para Windows, Mac y Linux, asi que a no desesperarse con aprender algún otro OS.\n",
    "\n",
    "En particular, vamos a usar los notebooks como este. Pero no es la única manera de ejecutar código Python. Ahora vemos las opciones.\n",
    "\n",
    "#### El zen de Python"
   ]
  },
  {
   "cell_type": "code",
   "execution_count": 14,
   "metadata": {
    "collapsed": false
   },
   "outputs": [
    {
     "name": "stdout",
     "output_type": "stream",
     "text": [
      "The Zen of Python, by Tim Peters\n",
      "\n",
      "Beautiful is better than ugly.\n",
      "Explicit is better than implicit.\n",
      "Simple is better than complex.\n",
      "Complex is better than complicated.\n",
      "Flat is better than nested.\n",
      "Sparse is better than dense.\n",
      "Readability counts.\n",
      "Special cases aren't special enough to break the rules.\n",
      "Although practicality beats purity.\n",
      "Errors should never pass silently.\n",
      "Unless explicitly silenced.\n",
      "In the face of ambiguity, refuse the temptation to guess.\n",
      "There should be one-- and preferably only one --obvious way to do it.\n",
      "Although that way may not be obvious at first unless you're Dutch.\n",
      "Now is better than never.\n",
      "Although never is often better than *right* now.\n",
      "If the implementation is hard to explain, it's a bad idea.\n",
      "If the implementation is easy to explain, it may be a good idea.\n",
      "Namespaces are one honking great idea -- let's do more of those!\n"
     ]
    }
   ],
   "source": [
    "import this\n",
    "print(''.join([this.d.get(i, i) for i in this.s]))"
   ]
  }
 ],
 "metadata": {
  "anaconda-cloud": {},
  "kernelspec": {
   "display_name": "Python [conda env:py35]",
   "language": "python",
   "name": "conda-env-py35-py"
  },
  "language_info": {
   "codemirror_mode": {
    "name": "ipython",
    "version": 3
   },
   "file_extension": ".py",
   "mimetype": "text/x-python",
   "name": "python",
   "nbconvert_exporter": "python",
   "pygments_lexer": "ipython3",
   "version": "3.5.2"
  }
 },
 "nbformat": 4,
 "nbformat_minor": 1
}
